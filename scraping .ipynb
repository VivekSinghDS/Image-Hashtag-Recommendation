{
 "cells": [
  {
   "cell_type": "code",
   "execution_count": 1,
   "id": "e976232e",
   "metadata": {},
   "outputs": [],
   "source": [
    "import numpy as np \n",
    "import pandas as pd \n",
    "from functions import scrape_data\n",
    "import os "
   ]
  },
  {
   "cell_type": "code",
   "execution_count": 2,
   "id": "5dbc71c8",
   "metadata": {},
   "outputs": [],
   "source": [
    "# !pip install pandas "
   ]
  },
  {
   "cell_type": "code",
   "execution_count": 3,
   "id": "b57cfac8",
   "metadata": {},
   "outputs": [],
   "source": [
    "hashtags = ['wedding', 'nature', 'architecture']"
   ]
  },
  {
   "cell_type": "code",
   "execution_count": 4,
   "id": "663bd18d",
   "metadata": {},
   "outputs": [],
   "source": [
    "num_to_scrape = 300"
   ]
  },
  {
   "cell_type": "code",
   "execution_count": 5,
   "id": "a39a1576",
   "metadata": {},
   "outputs": [
    {
     "name": "stdout",
     "output_type": "stream",
     "text": [
      "Folder 'data' already exists.\n",
      "Folder 'metadata' already exists.\n"
     ]
    }
   ],
   "source": [
    "folder_names = [\"data\", \"metadata\"]\n",
    "for folder_name in folder_names:\n",
    "    try:\n",
    "        os.mkdir(folder_name)\n",
    "    except OSError:\n",
    "        print(f\"Folder '{folder_name}' already exists.\")"
   ]
  },
  {
   "cell_type": "code",
   "execution_count": 6,
   "id": "7cba141f",
   "metadata": {},
   "outputs": [],
   "source": [
    "scrape_data(hashtags, num_to_scrape, delay=5)"
   ]
  },
  {
   "cell_type": "code",
   "execution_count": 7,
   "id": "79f84536",
   "metadata": {},
   "outputs": [
    {
     "data": {
      "text/plain": [
       "5"
      ]
     },
     "execution_count": 7,
     "metadata": {},
     "output_type": "execute_result"
    }
   ],
   "source": [
    "2+3"
   ]
  },
  {
   "cell_type": "code",
   "execution_count": 8,
   "id": "26bddb89",
   "metadata": {},
   "outputs": [
    {
     "name": "stdout",
     "output_type": "stream",
     "text": [
      "Collecting pyspark\n",
      "  Downloading pyspark-3.1.2.tar.gz (212.4 MB)\n",
      "\u001b[K     |████████████████████████████████| 212.4 MB 304 kB/s eta 0:00:01\n",
      "\u001b[?25hCollecting py4j==0.10.9\n",
      "  Downloading py4j-0.10.9-py2.py3-none-any.whl (198 kB)\n",
      "\u001b[K     |████████████████████████████████| 198 kB 556 kB/s eta 0:00:01\n",
      "\u001b[?25hBuilding wheels for collected packages: pyspark\n",
      "  Building wheel for pyspark (setup.py) ... \u001b[?25ldone\n",
      "\u001b[?25h  Created wheel for pyspark: filename=pyspark-3.1.2-py2.py3-none-any.whl size=212880768 sha256=9683cf2917d8fe9edf9056f036287f92a8f95e83d4327a8d54c03f646facc754\n",
      "  Stored in directory: /Users/vivek/Library/Caches/pip/wheels/df/88/9e/58ef1f74892fef590330ca0830b5b6d995ba29b44f977b3926\n",
      "Successfully built pyspark\n",
      "Installing collected packages: py4j, pyspark\n",
      "Successfully installed py4j-0.10.9 pyspark-3.1.2\n",
      "\u001b[33mWARNING: You are using pip version 20.2.3; however, version 21.2.4 is available.\n",
      "You should consider upgrading via the '/Users/vivek/DSwork/image_hashtag_recommendation/img_h_env/bin/python -m pip install --upgrade pip' command.\u001b[0m\n"
     ]
    }
   ],
   "source": [
    "!pip install pyspark"
   ]
  },
  {
   "cell_type": "code",
   "execution_count": null,
   "id": "409badc0",
   "metadata": {},
   "outputs": [],
   "source": []
  }
 ],
 "metadata": {
  "kernelspec": {
   "display_name": "img_h_env",
   "language": "python",
   "name": "img_h_env"
  },
  "language_info": {
   "codemirror_mode": {
    "name": "ipython",
    "version": 3
   },
   "file_extension": ".py",
   "mimetype": "text/x-python",
   "name": "python",
   "nbconvert_exporter": "python",
   "pygments_lexer": "ipython3",
   "version": "3.8.8"
  }
 },
 "nbformat": 4,
 "nbformat_minor": 5
}
